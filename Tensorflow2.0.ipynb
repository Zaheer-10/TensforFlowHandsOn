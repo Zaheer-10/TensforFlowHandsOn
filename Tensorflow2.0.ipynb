{
 "cells": [
  {
   "cell_type": "markdown",
   "id": "f76f0ee9-6687-48ee-9b40-2f9cccda4f62",
   "metadata": {},
   "source": [
    "# TENSORFLOW 2.O INTRODUCTION"
   ]
  },
  {
   "cell_type": "markdown",
   "id": "7d5d405c-352b-4166-aa7f-ebce8c44acf1",
   "metadata": {},
   "source": [
    "### TABLE OF CONTENTS\n",
    "\n",
    "- TensorFlow Install and Setup\n",
    "- Representing Tensors\n",
    "- Tensor Shape and Rank\n",
    "- Types of Tensors"
   ]
  },
  {
   "cell_type": "markdown",
   "id": "490fed68-af96-4e8b-85bc-087f4f48f127",
   "metadata": {},
   "source": [
    "## What is TensforFlow\n",
    "\n",
    "- TensorFlow is a free and open-source software library for machine learning and artificial intelligence. It was originally developed by researchers and engineers working on the Google Brain team within Google's Machine Intelligence Research (Google AI) division.\n",
    "\n",
    "#### It is used for a plethora of tasks in machine learning, including:\n",
    "\n",
    "- Image recognition\n",
    "  \n",
    "- Natural language processing\n",
    "  \n",
    "- Speech recognition\n",
    "  \n",
    "- Recommender systems\n",
    "  \n",
    "- Reinforcement learning\n",
    "  \n",
    "TensorFlow has been used to achieve state-of-the-art results in a wide range of competitions and benchmarks. It is also used by a wide range of companies, including Google, Facebook, Twitter,Twitter,"
   ]
  },
  {
   "cell_type": "markdown",
   "id": "a2b7b6bd-9e70-4098-bda8-0a957098f9cf",
   "metadata": {
    "jp-MarkdownHeadingCollapsed": true
   },
   "source": [
    "## TYPES OF TENSORS"
   ]
  },
  {
   "cell_type": "markdown",
   "id": "2d8274fd-00b8-4b22-98d3-7d72384321a0",
   "metadata": {},
   "source": [
    "1. variabe : \n",
    "\n",
    "- `A variable is a tensor that can be changed during the execution of a program`. It is used to store parameters of a model that need to be updated during training. \n",
    "\n",
    "- For example, the weights and biases of a neural network are typically stored as variables."
   ]
  },
  {
   "cell_type": "code",
   "execution_count": 28,
   "id": "d6f7de8c-9928-4603-8aed-32fce2201662",
   "metadata": {},
   "outputs": [],
   "source": [
    "v = tf.Variable(tf.random.normal([10,20]))"
   ]
  },
  {
   "cell_type": "markdown",
   "id": "d59494bc-04ba-471d-b5b1-1713eab7bf8d",
   "metadata": {},
   "source": [
    "2. Constant\n",
    "\n",
    "- `A constant is a tensor that has a fixed value that cannot be changed during the execution of a program.` It is used to store values that do not need to be changed, such as the `learning rate` of a model or the `number of training steps`.\n",
    "\n"
   ]
  },
  {
   "cell_type": "code",
   "execution_count": 31,
   "id": "c4d6902c-a395-4aa3-be3f-c815feb32f22",
   "metadata": {},
   "outputs": [],
   "source": [
    "c = tf.constant(0.01)"
   ]
  },
  {
   "cell_type": "markdown",
   "id": "23255c2d-da68-4687-a68d-788aaee22eae",
   "metadata": {},
   "source": [
    "3. PlaceHolder : \n",
    "\n",
    "- A placeholder is a tensor that represents a value that will be provided later in the program. It is used to feed data into a model during training or inference."
   ]
  },
  {
   "cell_type": "markdown",
   "id": "b5da9a51-d81e-48fa-baab-5f8a00879b9a",
   "metadata": {},
   "source": [
    "4. SparseTensor\n",
    "\n",
    "- A sparse tensor is a special type of tensor that efficiently `represents data with a large number of zero entries`. \n",
    "- It is useful for storing high-dimensional data, such as recommender system matrices or natural language processing vocabulary matrices.\n",
    "\n"
   ]
  },
  {
   "cell_type": "code",
   "execution_count": 38,
   "id": "4977b367-1ea3-4bd0-b2ed-42a34ba8c69c",
   "metadata": {},
   "outputs": [
    {
     "data": {
      "text/plain": [
       "SparseTensor(indices=tf.Tensor(\n",
       "[[0 0]\n",
       " [1 2]\n",
       " [2 1]], shape=(3, 2), dtype=int64), values=tf.Tensor([1 2 3], shape=(3,), dtype=int32), dense_shape=tf.Tensor([3 3], shape=(2,), dtype=int64))"
      ]
     },
     "execution_count": 38,
     "metadata": {},
     "output_type": "execute_result"
    }
   ],
   "source": [
    "tf.SparseTensor(indices=[[0, 0], [1, 2], [2, 1]], values=[1, 2, 3],          dense_shape=[3, 3]) "
   ]
  },
  {
   "cell_type": "code",
   "execution_count": 20,
   "id": "755e6d04-ae26-4c9c-803e-7c714f4fc781",
   "metadata": {},
   "outputs": [
    {
     "data": {
      "text/plain": [
       "<tf.Tensor: shape=(), dtype=int32, numpy=0>"
      ]
     },
     "execution_count": 20,
     "metadata": {},
     "output_type": "execute_result"
    }
   ],
   "source": [
    "tf.rank(number)"
   ]
  },
  {
   "cell_type": "code",
   "execution_count": 21,
   "id": "26af3734-d2c5-4981-a9ab-49ff83e0735a",
   "metadata": {},
   "outputs": [
    {
     "data": {
      "text/plain": [
       "TensorShape([1])"
      ]
     },
     "execution_count": 21,
     "metadata": {},
     "output_type": "execute_result"
    }
   ],
   "source": [
    "rank1_tensors.shape"
   ]
  },
  {
   "cell_type": "code",
   "execution_count": 16,
   "id": "6f87350f-c3e0-4d8c-add6-2727ee8e3e6a",
   "metadata": {},
   "outputs": [
    {
     "data": {
      "text/plain": [
       "<tf.Variable 'Variable:0' shape=(1,) dtype=string, numpy=array([b'Test'], dtype=object)>"
      ]
     },
     "execution_count": 16,
     "metadata": {},
     "output_type": "execute_result"
    }
   ],
   "source": [
    "rank1_tensors = tf.Variable(['Test'] , tf.string)\n",
    "rank1_tensors"
   ]
  },
  {
   "cell_type": "code",
   "execution_count": 18,
   "id": "2ae86f7f-81b6-42d6-905e-924065e863d6",
   "metadata": {},
   "outputs": [],
   "source": [
    "# rank2_tensors = tf.Variable([['test' 'ok'] , ['test' , 'no']], tf.string)\n",
    "\n"
   ]
  },
  {
   "cell_type": "markdown",
   "id": "fc805117-e356-4e0e-a6bf-430b8ed7096f",
   "metadata": {
    "jp-MarkdownHeadingCollapsed": true
   },
   "source": [
    "# Tensors : \n",
    "\n",
    "\n",
    "TensorFlow operates on multidimensional arrays or  _tensors_  represented as  [`tf.Tensor`](https://www.tensorflow.org/api_docs/python/tf/Tensor)  objects. Here is a two-dimensional tensor:"
   ]
  },
  {
   "cell_type": "code",
   "execution_count": 54,
   "id": "a1ac363d-f7e9-4dd5-99a1-4c03730f81a2",
   "metadata": {},
   "outputs": [
    {
     "name": "stdout",
     "output_type": "stream",
     "text": [
      "tf.Tensor(\n",
      "[[1. 2. 3.]\n",
      " [4. 5. 6.]], shape=(2, 3), dtype=float32)\n",
      "\n",
      "(2, 3)\n",
      "\n",
      "<dtype: 'float32'>\n"
     ]
    }
   ],
   "source": [
    "x = tf.constant([[1 , 2, 3] , \n",
    "                [4, 5, 6]] , dtype=tf.float32)\n",
    "\n",
    "print(x)\n",
    "print()\n",
    "print(x.shape)\n",
    "print()\n",
    "print(x.dtype)"
   ]
  },
  {
   "cell_type": "markdown",
   "id": "f39f628c-f958-4383-b205-74e2cf4ce399",
   "metadata": {},
   "source": [
    "\n",
    "## About shapes\n",
    "\n",
    "Tensors have shapes. Some vocabulary:\n",
    "\n",
    "-   **Shape**: The length (number of elements) of each of the axes of a tensor.\n",
    "-   **Rank**: Number of tensor axes. A scalar has rank 0, a vector has rank 1, a matrix is rank 2.\n",
    "-   **Axis**  or  **Dimension**: A particular dimension of a tensor.\n",
    "-   **Size**: The total number of items in the tensor, the product of the shape vector's elements.\n",
    "\n",
    "**Note:** Although you may see reference to a \"tensor of two dimensions\", a rank-2 tensor does not usually describe a 2D space."
   ]
  },
  {
   "attachments": {
    "a8357815-4625-4958-a0e5-6efcda06a31f.png": {
     "image/png": "[encoded data removed]"
    }
   },
   "cell_type": "markdown",
   "id": "0978fa7b-ed84-4b2a-975f-7ec54a7b1c93",
   "metadata": {},
   "source": [
    "## A rank-4 tensor, shape: [3, 2, 4, 5]\n",
    "![image.png](attachment:a8357815-4625-4958-a0e5-6efcda06a31f.png)"
   ]
  },
  {
   "cell_type": "markdown",
   "id": "dc20deed-5e74-460d-938a-9b1d6eea711f",
   "metadata": {},
   "source": [
    "## Typical axis order\n"
   ]
  },
  {
   "attachments": {
    "7cf09365-2fd1-480b-bb50-f3469781036f.png": {
     "image/png": "[encoded data removed]"
    }
   },
   "cell_type": "markdown",
   "id": "691279b0-a664-4b89-9751-5e60026cfe62",
   "metadata": {},
   "source": [
    "![image.png](attachment:7cf09365-2fd1-480b-bb50-f3469781036f.png)"
   ]
  },
  {
   "cell_type": "markdown",
   "id": "98bf92fb-8cd3-4847-8837-6260e38af9c4",
   "metadata": {},
   "source": [
    "## CREATING A TENSOR"
   ]
  },
  {
   "cell_type": "code",
   "execution_count": 12,
   "id": "06db0a5e-c267-477b-bc39-58df6b3eb6db",
   "metadata": {},
   "outputs": [],
   "source": [
    "string = tf.Variable('This is a string' , tf.string)\n",
    "\n",
    "number = tf.Variable(324 , tf.int16)\n",
    "\n",
    "floating = tf.Variable(3.567 , tf.float64)"
   ]
  },
  {
   "cell_type": "markdown",
   "id": "1b2c7c88-ba6e-4e6c-b74d-9b6fef30b812",
   "metadata": {},
   "source": [
    "## Evaluating tensors"
   ]
  },
  {
   "cell_type": "markdown",
   "id": "d8474f1f-ca02-4644-95c4-7ef2350246d1",
   "metadata": {},
   "source": [
    "Evaluating tensors in TensorFlow refers to the process of determining the numerical value of a tensor. This is typically done using the tf.eval() function, which takes a tensor as input and returns its corresponding numeric value. Evaluating tensors is crucial for training and evaluating machine learning models, as it allows you to assess the model's predictions and performance."
   ]
  },
  {
   "cell_type": "code",
   "execution_count": 43,
   "id": "6735c904-9946-4069-96e2-938b67badbb9",
   "metadata": {},
   "outputs": [],
   "source": [
    "# with tf.Session() as sess : \n",
    "#     tensor.eval()"
   ]
  },
  {
   "cell_type": "markdown",
   "id": "19b3709d-eaaa-4c04-8169-9862eec99670",
   "metadata": {
    "jp-MarkdownHeadingCollapsed": true
   },
   "source": [
    "### Rank or degree of tensors ( no. dim)"
   ]
  },
  {
   "cell_type": "code",
   "execution_count": 83,
   "id": "5fca2d4b-212c-420b-a131-a871c988ab90",
   "metadata": {},
   "outputs": [
    {
     "name": "stdout",
     "output_type": "stream",
     "text": [
      "Type of every element: <dtype: 'float32'>\n",
      "Number of axes: 4\n",
      "Shape of tensor: (3, 2, 4, 5)\n",
      "Elements along axis 0 of tensor: 3\n",
      "Elements along the last axis of tensor: 5\n",
      "Total number of elements (3*2*4*5):  120\n"
     ]
    }
   ],
   "source": [
    "rank_4_tensor = tf.zeros([3, 2, 4, 5])\n",
    "\n",
    "print(\"Type of every element:\", rank_4_tensor.dtype)\n",
    "print(\"Number of axes:\", rank_4_tensor.ndim)\n",
    "print(\"Shape of tensor:\", rank_4_tensor.shape)\n",
    "print(\"Elements along axis 0 of tensor:\", rank_4_tensor.shape[0])\n",
    "print(\"Elements along the last axis of tensor:\", rank_4_tensor.shape[-1])\n",
    "print(\"Total number of elements (3*2*4*5): \", tf.size(rank_4_tensor).numpy())"
   ]
  },
  {
   "cell_type": "code",
   "execution_count": 77,
   "id": "66276417-7247-4ad9-91ae-b416f45e077b",
   "metadata": {},
   "outputs": [
    {
     "data": {
      "text/plain": [
       "array([[1., 2.],\n",
       "       [3., 4.],\n",
       "       [5., 6.]], dtype=float16)"
      ]
     },
     "execution_count": 77,
     "metadata": {},
     "output_type": "execute_result"
    }
   ],
   "source": [
    "rank_2_tensor.numpy()"
   ]
  },
  {
   "attachments": {
    "15384377-756f-41c5-be77-dce8c7d54433.png": {
     "image/png": "[encoded data removed]"
    },
    "5f8e1c2e-96bd-422b-bb89-52febe5e211c.png": {
     "image/png": "[encoded data removed]"
    },
    "8531db15-1542-429d-afdc-26b9f1c67900.png": {
     "image/png": "[encoded data removed]"
    }
   },
   "cell_type": "markdown",
   "id": "1ff11e8f-1931-4725-958a-8a7b2cd5c64f",
   "metadata": {},
   "source": [
    "![image.png](attachment:8531db15-1542-429d-afdc-26b9f1c67900.png)\n",
    "![image.png](attachment:5f8e1c2e-96bd-422b-bb89-52febe5e211c.png)\n",
    "![image.png](attachment:15384377-756f-41c5-be77-dce8c7d54433.png)"
   ]
  },
  {
   "cell_type": "markdown",
   "id": "643ce4b7-e5cb-4df4-999c-c2cec1931609",
   "metadata": {},
   "source": [
    "#### You can convert a tensor to a NumPy array either using `np.array` or the `tensor.numpy` method:"
   ]
  },
  {
   "cell_type": "code",
   "execution_count": 76,
   "id": "a8729852-da53-4cd6-814a-7245a248e2c7",
   "metadata": {},
   "outputs": [
    {
     "data": {
      "text/plain": [
       "array([[1., 2.],\n",
       "       [3., 4.],\n",
       "       [5., 6.]], dtype=float16)"
      ]
     },
     "execution_count": 76,
     "metadata": {},
     "output_type": "execute_result"
    }
   ],
   "source": [
    "import numpy as np \n",
    "np.array(rank_2_tensor)"
   ]
  },
  {
   "cell_type": "code",
   "execution_count": 69,
   "id": "682eb6b1-cebe-4045-9e34-5af51add778b",
   "metadata": {},
   "outputs": [
    {
     "data": {
      "text/plain": [
       "<tf.Tensor: shape=(), dtype=int32, numpy=10>"
      ]
     },
     "execution_count": 69,
     "metadata": {},
     "output_type": "execute_result"
    }
   ],
   "source": [
    "tf.constant(10)"
   ]
  },
  {
   "cell_type": "code",
   "execution_count": 70,
   "id": "d865410a-b651-4544-aac5-2e13cf2d848a",
   "metadata": {},
   "outputs": [
    {
     "name": "stdout",
     "output_type": "stream",
     "text": [
      "tf.Tensor([2. 3. 4.], shape=(3,), dtype=float32)\n"
     ]
    }
   ],
   "source": [
    "# Let's make this a float tensor.\n",
    "rank_1_tensor = tf.constant([2.0, 3.0, 4.0])\n",
    "print(rank_1_tensor)"
   ]
  },
  {
   "cell_type": "markdown",
   "id": "348bccf3-004b-44d7-8fde-4896d18adb4c",
   "metadata": {},
   "source": [
    "####  If you want to be specific, you can set the dtype (see below) at creation time"
   ]
  },
  {
   "cell_type": "code",
   "execution_count": 71,
   "id": "ceaea93c-32a1-47f6-8d62-693088784564",
   "metadata": {},
   "outputs": [
    {
     "name": "stdout",
     "output_type": "stream",
     "text": [
      "tf.Tensor(\n",
      "[[1. 2.]\n",
      " [3. 4.]\n",
      " [5. 6.]], shape=(3, 2), dtype=float16)\n"
     ]
    }
   ],
   "source": [
    "\n",
    "rank_2_tensor = tf.constant([[1, 2],\n",
    "                             [3, 4],\n",
    "                             [5, 6]], dtype=tf.float16)\n",
    "print(rank_2_tensor)"
   ]
  },
  {
   "attachments": {
    "5f1d9328-b3a2-4999-a292-f5b9aff0c659.png": {
     "image/png": "[encoded data removed]"
    },
    "7943d4c7-a14a-43ec-b8fd-7f29a3721e42.png": {
     "image/png": "[encoded data removed]"
    },
    "de6b6cf3-3cba-4be7-ad8c-fbbb4b7bc1e4.png": {
     "image/png": "[encoded data removed]"
    }
   },
   "cell_type": "markdown",
   "id": "53655928-a345-4b9e-aaa2-4ee9f54ccb6d",
   "metadata": {},
   "source": [
    "![image.png](attachment:7943d4c7-a14a-43ec-b8fd-7f29a3721e42.png)![image.png](attachment:de6b6cf3-3cba-4be7-ad8c-fbbb4b7bc1e4.png)\n",
    "![image.png](attachment:5f1d9328-b3a2-4999-a292-f5b9aff0c659.png)"
   ]
  },
  {
   "cell_type": "markdown",
   "id": "329d2355-1b03-4c87-a9bb-92fce1ace509",
   "metadata": {},
   "source": [
    "#### A 3-axis tensor, shape: [3, 2, 5]"
   ]
  },
  {
   "cell_type": "code",
   "execution_count": 61,
   "id": "c3477d0c-5dac-496d-89fc-7121db030b80",
   "metadata": {},
   "outputs": [
    {
     "data": {
      "text/plain": [
       "(<tf.Tensor: shape=(3, 2), dtype=float32, numpy=\n",
       " array([[1., 4.],\n",
       "        [2., 5.],\n",
       "        [3., 6.]], dtype=float32)>,\n",
       " <tf.Tensor: shape=(2, 3), dtype=float32, numpy=\n",
       " array([[1., 2., 3.],\n",
       "        [4., 5., 6.]], dtype=float32)>)"
      ]
     },
     "execution_count": 61,
     "metadata": {},
     "output_type": "execute_result"
    }
   ],
   "source": [
    "tf.transpose(x) , x"
   ]
  },
  {
   "cell_type": "code",
   "execution_count": 62,
   "id": "b2b79308-4071-44a3-998d-847382c8ac87",
   "metadata": {},
   "outputs": [
    {
     "data": {
      "text/plain": [
       "<tf.Tensor: shape=(2, 9), dtype=float32, numpy=\n",
       "array([[1., 2., 3., 1., 2., 3., 1., 2., 3.],\n",
       "       [4., 5., 6., 4., 5., 6., 4., 5., 6.]], dtype=float32)>"
      ]
     },
     "execution_count": 62,
     "metadata": {},
     "output_type": "execute_result"
    }
   ],
   "source": [
    "tf.concat([x,x,x] , axis= 1)"
   ]
  },
  {
   "cell_type": "code",
   "execution_count": 63,
   "id": "a7cbbd99-1d27-4e20-9b50-c1ca206b758a",
   "metadata": {},
   "outputs": [
    {
     "data": {
      "text/plain": [
       "<tf.Tensor: shape=(2, 3), dtype=float32, numpy=\n",
       "array([[0.09003057, 0.24472848, 0.6652409 ],\n",
       "       [0.09003057, 0.24472848, 0.6652409 ]], dtype=float32)>"
      ]
     },
     "execution_count": 63,
     "metadata": {},
     "output_type": "execute_result"
    }
   ],
   "source": [
    "tf.nn.softmax(x)"
   ]
  },
  {
   "cell_type": "code",
   "execution_count": 64,
   "id": "6576e78d-cf05-47cf-9a05-a7cf41f8af87",
   "metadata": {},
   "outputs": [
    {
     "data": {
      "text/plain": [
       "<tf.Tensor: shape=(), dtype=float32, numpy=21.0>"
      ]
     },
     "execution_count": 64,
     "metadata": {},
     "output_type": "execute_result"
    }
   ],
   "source": [
    "tf.reduce_sum(x)"
   ]
  },
  {
   "cell_type": "code",
   "execution_count": 65,
   "id": "7918746d-f206-4fe6-90f7-8b28b68cb08d",
   "metadata": {},
   "outputs": [
    {
     "data": {
      "text/plain": [
       "<tf.Tensor: shape=(), dtype=float32, numpy=6.0>"
      ]
     },
     "execution_count": 65,
     "metadata": {},
     "output_type": "execute_result"
    }
   ],
   "source": [
    "tf.reduce_max(x)"
   ]
  },
  {
   "cell_type": "code",
   "execution_count": 66,
   "id": "d54c13b2-f761-414e-a115-c7f5f91a3701",
   "metadata": {},
   "outputs": [
    {
     "data": {
      "text/plain": [
       "<tf.Tensor: shape=(4,), dtype=int32, numpy=array([1, 2, 3, 4])>"
      ]
     },
     "execution_count": 66,
     "metadata": {},
     "output_type": "execute_result"
    }
   ],
   "source": [
    "tf.convert_to_tensor([1,2,3,4])"
   ]
  },
  {
   "cell_type": "markdown",
   "id": "ac6cc250-f644-4efd-b821-50cd55d0c9c7",
   "metadata": {},
   "source": [
    "####  \"scalar\" or \"rank-0\" tensor . A scalar contains a single value, and no \"axes\"."
   ]
  },
  {
   "cell_type": "markdown",
   "id": "ec75e46b-522c-4c28-8d13-b4565444d4b8",
   "metadata": {},
   "source": [
    "The most important attributes of a  [`tf.Tensor`](https://www.tensorflow.org/api_docs/python/tf/Tensor)  are its  `shape`  and  `dtype`:\n",
    "\n",
    "-   [`Tensor.shape`](https://www.tensorflow.org/api_docs/python/tf/Tensor#shape): tells you the size of the tensor along each of its axes.\n",
    "-   [`Tensor.dtype`](https://www.tensorflow.org/api_docs/python/tf/Tensor#dtype): tells you the type of all the elements in the tensor.\n",
    "\n",
    "TensorFlow implements standard mathematical operations on tensors, as well as many operations specialized for machine learning.\n",
    "\n",
    "For example:"
   ]
  },
  {
   "cell_type": "code",
   "execution_count": 56,
   "id": "63c1e0fc-68fd-412a-8ac9-4e4b3757e8a3",
   "metadata": {},
   "outputs": [
    {
     "data": {
      "text/plain": [
       "<tf.Tensor: shape=(2, 3), dtype=float32, numpy=\n",
       "array([[ 2.,  4.,  6.],\n",
       "       [ 8., 10., 12.]], dtype=float32)>"
      ]
     },
     "execution_count": 56,
     "metadata": {},
     "output_type": "execute_result"
    }
   ],
   "source": [
    "x + x"
   ]
  },
  {
   "cell_type": "code",
   "execution_count": 57,
   "id": "f2c00dca-f73f-4e5b-8cc7-f371fe72cdf0",
   "metadata": {},
   "outputs": [
    {
     "data": {
      "text/plain": [
       "<tf.Tensor: shape=(2, 3), dtype=float32, numpy=\n",
       "array([[11., 12., 13.],\n",
       "       [14., 15., 16.]], dtype=float32)>"
      ]
     },
     "execution_count": 57,
     "metadata": {},
     "output_type": "execute_result"
    }
   ],
   "source": [
    "10 + x"
   ]
  },
  {
   "cell_type": "code",
   "execution_count": 58,
   "id": "7dde7977-66f5-42b3-a90f-eee687f36bea",
   "metadata": {},
   "outputs": [
    {
     "data": {
      "text/plain": [
       "<tf.Tensor: shape=(2, 2), dtype=float32, numpy=\n",
       "array([[14., 32.],\n",
       "       [32., 77.]], dtype=float32)>"
      ]
     },
     "execution_count": 58,
     "metadata": {},
     "output_type": "execute_result"
    }
   ],
   "source": [
    "x @ tf.transpose(x)"
   ]
  },
  {
   "cell_type": "code",
   "execution_count": 6,
   "id": "69e661b6-a87c-444c-9093-92f33dfcfb8f",
   "metadata": {},
   "outputs": [
    {
     "name": "stdout",
     "output_type": "stream",
     "text": [
      "WARNING:tensorflow:From C:\\Users\\soulo\\anaconda3\\lib\\site-packages\\keras\\src\\losses.py:2976: The name tf.losses.sparse_softmax_cross_entropy is deprecated. Please use tf.compat.v1.losses.sparse_softmax_cross_entropy instead.\n",
      "\n"
     ]
    }
   ],
   "source": [
    "import tensorflow as tf"
   ]
  },
  {
   "cell_type": "code",
   "execution_count": 7,
   "id": "27310238-8f67-4be3-8f71-32f58abf1fb6",
   "metadata": {},
   "outputs": [
    {
     "data": {
      "text/plain": [
       "'2.15.0'"
      ]
     },
     "execution_count": 7,
     "metadata": {},
     "output_type": "execute_result"
    }
   ],
   "source": [
    "tf.__version__"
   ]
  },
  {
   "cell_type": "markdown",
   "id": "bf46f85d-ffe3-400d-b9c3-a93f0da6700a",
   "metadata": {},
   "source": [
    "## Examples "
   ]
  },
  {
   "cell_type": "code",
   "execution_count": 45,
   "id": "2aed4ee7-601f-4c89-b1ca-d37dd57ed828",
   "metadata": {},
   "outputs": [
    {
     "name": "stdout",
     "output_type": "stream",
     "text": [
      "tf.Tensor(\n",
      "[[[[0 0 0 0 0]\n",
      "   [0 0 0 0 0]\n",
      "   [0 0 0 0 0]\n",
      "   [0 0 0 0 0]\n",
      "   [0 0 0 0 0]]\n",
      "\n",
      "  [[0 0 0 0 0]\n",
      "   [0 0 0 0 0]\n",
      "   [0 0 0 0 0]\n",
      "   [0 0 0 0 0]\n",
      "   [0 0 0 0 0]]\n",
      "\n",
      "  [[0 0 0 0 0]\n",
      "   [0 0 0 0 0]\n",
      "   [0 0 0 0 0]\n",
      "   [0 0 0 0 0]\n",
      "   [0 0 0 0 0]]\n",
      "\n",
      "  [[0 0 0 0 0]\n",
      "   [0 0 0 0 0]\n",
      "   [0 0 0 0 0]\n",
      "   [0 0 0 0 0]\n",
      "   [0 0 0 0 0]]\n",
      "\n",
      "  [[0 0 0 0 0]\n",
      "   [0 0 0 0 0]\n",
      "   [0 0 0 0 0]\n",
      "   [0 0 0 0 0]\n",
      "   [0 0 0 0 0]]]\n",
      "\n",
      "\n",
      " [[[0 0 0 0 0]\n",
      "   [0 0 0 0 0]\n",
      "   [0 0 0 0 0]\n",
      "   [0 0 0 0 0]\n",
      "   [0 0 0 0 0]]\n",
      "\n",
      "  [[0 0 0 0 0]\n",
      "   [0 0 0 0 0]\n",
      "   [0 0 0 0 0]\n",
      "   [0 0 0 0 0]\n",
      "   [0 0 0 0 0]]\n",
      "\n",
      "  [[0 0 0 0 0]\n",
      "   [0 0 0 0 0]\n",
      "   [0 0 0 0 0]\n",
      "   [0 0 0 0 0]\n",
      "   [0 0 0 0 0]]\n",
      "\n",
      "  [[0 0 0 0 0]\n",
      "   [0 0 0 0 0]\n",
      "   [0 0 0 0 0]\n",
      "   [0 0 0 0 0]\n",
      "   [0 0 0 0 0]]\n",
      "\n",
      "  [[0 0 0 0 0]\n",
      "   [0 0 0 0 0]\n",
      "   [0 0 0 0 0]\n",
      "   [0 0 0 0 0]\n",
      "   [0 0 0 0 0]]]\n",
      "\n",
      "\n",
      " [[[0 0 0 0 0]\n",
      "   [0 0 0 0 0]\n",
      "   [0 0 0 0 0]\n",
      "   [0 0 0 0 0]\n",
      "   [0 0 0 0 0]]\n",
      "\n",
      "  [[0 0 0 0 0]\n",
      "   [0 0 0 0 0]\n",
      "   [0 0 0 0 0]\n",
      "   [0 0 0 0 0]\n",
      "   [0 0 0 0 0]]\n",
      "\n",
      "  [[0 0 0 0 0]\n",
      "   [0 0 0 0 0]\n",
      "   [0 0 0 0 0]\n",
      "   [0 0 0 0 0]\n",
      "   [0 0 0 0 0]]\n",
      "\n",
      "  [[0 0 0 0 0]\n",
      "   [0 0 0 0 0]\n",
      "   [0 0 0 0 0]\n",
      "   [0 0 0 0 0]\n",
      "   [0 0 0 0 0]]\n",
      "\n",
      "  [[0 0 0 0 0]\n",
      "   [0 0 0 0 0]\n",
      "   [0 0 0 0 0]\n",
      "   [0 0 0 0 0]\n",
      "   [0 0 0 0 0]]]\n",
      "\n",
      "\n",
      " [[[0 0 0 0 0]\n",
      "   [0 0 0 0 0]\n",
      "   [0 0 0 0 0]\n",
      "   [0 0 0 0 0]\n",
      "   [0 0 0 0 0]]\n",
      "\n",
      "  [[0 0 0 0 0]\n",
      "   [0 0 0 0 0]\n",
      "   [0 0 0 0 0]\n",
      "   [0 0 0 0 0]\n",
      "   [0 0 0 0 0]]\n",
      "\n",
      "  [[0 0 0 0 0]\n",
      "   [0 0 0 0 0]\n",
      "   [0 0 0 0 0]\n",
      "   [0 0 0 0 0]\n",
      "   [0 0 0 0 0]]\n",
      "\n",
      "  [[0 0 0 0 0]\n",
      "   [0 0 0 0 0]\n",
      "   [0 0 0 0 0]\n",
      "   [0 0 0 0 0]\n",
      "   [0 0 0 0 0]]\n",
      "\n",
      "  [[0 0 0 0 0]\n",
      "   [0 0 0 0 0]\n",
      "   [0 0 0 0 0]\n",
      "   [0 0 0 0 0]\n",
      "   [0 0 0 0 0]]]\n",
      "\n",
      "\n",
      " [[[0 0 0 0 0]\n",
      "   [0 0 0 0 0]\n",
      "   [0 0 0 0 0]\n",
      "   [0 0 0 0 0]\n",
      "   [0 0 0 0 0]]\n",
      "\n",
      "  [[0 0 0 0 0]\n",
      "   [0 0 0 0 0]\n",
      "   [0 0 0 0 0]\n",
      "   [0 0 0 0 0]\n",
      "   [0 0 0 0 0]]\n",
      "\n",
      "  [[0 0 0 0 0]\n",
      "   [0 0 0 0 0]\n",
      "   [0 0 0 0 0]\n",
      "   [0 0 0 0 0]\n",
      "   [0 0 0 0 0]]\n",
      "\n",
      "  [[0 0 0 0 0]\n",
      "   [0 0 0 0 0]\n",
      "   [0 0 0 0 0]\n",
      "   [0 0 0 0 0]\n",
      "   [0 0 0 0 0]]\n",
      "\n",
      "  [[0 0 0 0 0]\n",
      "   [0 0 0 0 0]\n",
      "   [0 0 0 0 0]\n",
      "   [0 0 0 0 0]\n",
      "   [0 0 0 0 0]]]], shape=(5, 5, 5, 5), dtype=int32)\n"
     ]
    }
   ],
   "source": [
    "zero_tensors = tf.zeros([5,5,5,5] , dtype=tf.int32)\n",
    "\n",
    "print(zero_tensors)"
   ]
  },
  {
   "cell_type": "code",
   "execution_count": 46,
   "id": "459570ce-c70d-466f-ae5e-d580b59dc9b9",
   "metadata": {},
   "outputs": [
    {
     "data": {
      "text/plain": [
       "5"
      ]
     },
     "execution_count": 46,
     "metadata": {},
     "output_type": "execute_result"
    }
   ],
   "source": [
    "len(zero_tensors)"
   ]
  },
  {
   "cell_type": "markdown",
   "id": "057af88f-9503-41de-bfa6-0a8922baf1ca",
   "metadata": {},
   "source": [
    "#### Reshape"
   ]
  },
  {
   "cell_type": "code",
   "execution_count": 51,
   "id": "e64d22e5-575a-4345-b45f-e8dff7f1d257",
   "metadata": {},
   "outputs": [
    {
     "name": "stdout",
     "output_type": "stream",
     "text": [
      "tf.Tensor(\n",
      "[[0]\n",
      " [0]\n",
      " [0]\n",
      " [0]\n",
      " [0]\n",
      " [0]\n",
      " [0]\n",
      " [0]\n",
      " [0]\n",
      " [0]\n",
      " [0]\n",
      " [0]\n",
      " [0]\n",
      " [0]\n",
      " [0]\n",
      " [0]\n",
      " [0]\n",
      " [0]\n",
      " [0]\n",
      " [0]\n",
      " [0]\n",
      " [0]\n",
      " [0]\n",
      " [0]\n",
      " [0]\n",
      " [0]\n",
      " [0]\n",
      " [0]\n",
      " [0]\n",
      " [0]\n",
      " [0]\n",
      " [0]\n",
      " [0]\n",
      " [0]\n",
      " [0]\n",
      " [0]\n",
      " [0]\n",
      " [0]\n",
      " [0]\n",
      " [0]\n",
      " [0]\n",
      " [0]\n",
      " [0]\n",
      " [0]\n",
      " [0]\n",
      " [0]\n",
      " [0]\n",
      " [0]\n",
      " [0]\n",
      " [0]\n",
      " [0]\n",
      " [0]\n",
      " [0]\n",
      " [0]\n",
      " [0]\n",
      " [0]\n",
      " [0]\n",
      " [0]\n",
      " [0]\n",
      " [0]\n",
      " [0]\n",
      " [0]\n",
      " [0]\n",
      " [0]\n",
      " [0]\n",
      " [0]\n",
      " [0]\n",
      " [0]\n",
      " [0]\n",
      " [0]\n",
      " [0]\n",
      " [0]\n",
      " [0]\n",
      " [0]\n",
      " [0]\n",
      " [0]\n",
      " [0]\n",
      " [0]\n",
      " [0]\n",
      " [0]\n",
      " [0]\n",
      " [0]\n",
      " [0]\n",
      " [0]\n",
      " [0]\n",
      " [0]\n",
      " [0]\n",
      " [0]\n",
      " [0]\n",
      " [0]\n",
      " [0]\n",
      " [0]\n",
      " [0]\n",
      " [0]\n",
      " [0]\n",
      " [0]\n",
      " [0]\n",
      " [0]\n",
      " [0]\n",
      " [0]\n",
      " [0]\n",
      " [0]\n",
      " [0]\n",
      " [0]\n",
      " [0]\n",
      " [0]\n",
      " [0]\n",
      " [0]\n",
      " [0]\n",
      " [0]\n",
      " [0]\n",
      " [0]\n",
      " [0]\n",
      " [0]\n",
      " [0]\n",
      " [0]\n",
      " [0]\n",
      " [0]\n",
      " [0]\n",
      " [0]\n",
      " [0]\n",
      " [0]\n",
      " [0]\n",
      " [0]\n",
      " [0]\n",
      " [0]\n",
      " [0]\n",
      " [0]\n",
      " [0]\n",
      " [0]\n",
      " [0]\n",
      " [0]\n",
      " [0]\n",
      " [0]\n",
      " [0]\n",
      " [0]\n",
      " [0]\n",
      " [0]\n",
      " [0]\n",
      " [0]\n",
      " [0]\n",
      " [0]\n",
      " [0]\n",
      " [0]\n",
      " [0]\n",
      " [0]\n",
      " [0]\n",
      " [0]\n",
      " [0]\n",
      " [0]\n",
      " [0]\n",
      " [0]\n",
      " [0]\n",
      " [0]\n",
      " [0]\n",
      " [0]\n",
      " [0]\n",
      " [0]\n",
      " [0]\n",
      " [0]\n",
      " [0]\n",
      " [0]\n",
      " [0]\n",
      " [0]\n",
      " [0]\n",
      " [0]\n",
      " [0]\n",
      " [0]\n",
      " [0]\n",
      " [0]\n",
      " [0]\n",
      " [0]\n",
      " [0]\n",
      " [0]\n",
      " [0]\n",
      " [0]\n",
      " [0]\n",
      " [0]\n",
      " [0]\n",
      " [0]\n",
      " [0]\n",
      " [0]\n",
      " [0]\n",
      " [0]\n",
      " [0]\n",
      " [0]\n",
      " [0]\n",
      " [0]\n",
      " [0]\n",
      " [0]\n",
      " [0]\n",
      " [0]\n",
      " [0]\n",
      " [0]\n",
      " [0]\n",
      " [0]\n",
      " [0]\n",
      " [0]\n",
      " [0]\n",
      " [0]\n",
      " [0]\n",
      " [0]\n",
      " [0]\n",
      " [0]\n",
      " [0]\n",
      " [0]\n",
      " [0]\n",
      " [0]\n",
      " [0]\n",
      " [0]\n",
      " [0]\n",
      " [0]\n",
      " [0]\n",
      " [0]\n",
      " [0]\n",
      " [0]\n",
      " [0]\n",
      " [0]\n",
      " [0]\n",
      " [0]\n",
      " [0]\n",
      " [0]\n",
      " [0]\n",
      " [0]\n",
      " [0]\n",
      " [0]\n",
      " [0]\n",
      " [0]\n",
      " [0]\n",
      " [0]\n",
      " [0]\n",
      " [0]\n",
      " [0]\n",
      " [0]\n",
      " [0]\n",
      " [0]\n",
      " [0]\n",
      " [0]\n",
      " [0]\n",
      " [0]\n",
      " [0]\n",
      " [0]\n",
      " [0]\n",
      " [0]\n",
      " [0]\n",
      " [0]\n",
      " [0]\n",
      " [0]\n",
      " [0]\n",
      " [0]\n",
      " [0]\n",
      " [0]\n",
      " [0]\n",
      " [0]\n",
      " [0]\n",
      " [0]\n",
      " [0]\n",
      " [0]\n",
      " [0]\n",
      " [0]\n",
      " [0]\n",
      " [0]\n",
      " [0]\n",
      " [0]\n",
      " [0]\n",
      " [0]\n",
      " [0]\n",
      " [0]\n",
      " [0]\n",
      " [0]\n",
      " [0]\n",
      " [0]\n",
      " [0]\n",
      " [0]\n",
      " [0]\n",
      " [0]\n",
      " [0]\n",
      " [0]\n",
      " [0]\n",
      " [0]\n",
      " [0]\n",
      " [0]\n",
      " [0]\n",
      " [0]\n",
      " [0]\n",
      " [0]\n",
      " [0]\n",
      " [0]\n",
      " [0]\n",
      " [0]\n",
      " [0]\n",
      " [0]\n",
      " [0]\n",
      " [0]\n",
      " [0]\n",
      " [0]\n",
      " [0]\n",
      " [0]\n",
      " [0]\n",
      " [0]\n",
      " [0]\n",
      " [0]\n",
      " [0]\n",
      " [0]\n",
      " [0]\n",
      " [0]\n",
      " [0]\n",
      " [0]\n",
      " [0]\n",
      " [0]\n",
      " [0]\n",
      " [0]\n",
      " [0]\n",
      " [0]\n",
      " [0]\n",
      " [0]\n",
      " [0]\n",
      " [0]\n",
      " [0]\n",
      " [0]\n",
      " [0]\n",
      " [0]\n",
      " [0]\n",
      " [0]\n",
      " [0]\n",
      " [0]\n",
      " [0]\n",
      " [0]\n",
      " [0]\n",
      " [0]\n",
      " [0]\n",
      " [0]\n",
      " [0]\n",
      " [0]\n",
      " [0]\n",
      " [0]\n",
      " [0]\n",
      " [0]\n",
      " [0]\n",
      " [0]\n",
      " [0]\n",
      " [0]\n",
      " [0]\n",
      " [0]\n",
      " [0]\n",
      " [0]\n",
      " [0]\n",
      " [0]\n",
      " [0]\n",
      " [0]\n",
      " [0]\n",
      " [0]\n",
      " [0]\n",
      " [0]\n",
      " [0]\n",
      " [0]\n",
      " [0]\n",
      " [0]\n",
      " [0]\n",
      " [0]\n",
      " [0]\n",
      " [0]\n",
      " [0]\n",
      " [0]\n",
      " [0]\n",
      " [0]\n",
      " [0]\n",
      " [0]\n",
      " [0]\n",
      " [0]\n",
      " [0]\n",
      " [0]\n",
      " [0]\n",
      " [0]\n",
      " [0]\n",
      " [0]\n",
      " [0]\n",
      " [0]\n",
      " [0]\n",
      " [0]\n",
      " [0]\n",
      " [0]\n",
      " [0]\n",
      " [0]\n",
      " [0]\n",
      " [0]\n",
      " [0]\n",
      " [0]\n",
      " [0]\n",
      " [0]\n",
      " [0]\n",
      " [0]\n",
      " [0]\n",
      " [0]\n",
      " [0]\n",
      " [0]\n",
      " [0]\n",
      " [0]\n",
      " [0]\n",
      " [0]\n",
      " [0]\n",
      " [0]\n",
      " [0]\n",
      " [0]\n",
      " [0]\n",
      " [0]\n",
      " [0]\n",
      " [0]\n",
      " [0]\n",
      " [0]\n",
      " [0]\n",
      " [0]\n",
      " [0]\n",
      " [0]\n",
      " [0]\n",
      " [0]\n",
      " [0]\n",
      " [0]\n",
      " [0]\n",
      " [0]\n",
      " [0]\n",
      " [0]\n",
      " [0]\n",
      " [0]\n",
      " [0]\n",
      " [0]\n",
      " [0]\n",
      " [0]\n",
      " [0]\n",
      " [0]\n",
      " [0]\n",
      " [0]\n",
      " [0]\n",
      " [0]\n",
      " [0]\n",
      " [0]\n",
      " [0]\n",
      " [0]\n",
      " [0]\n",
      " [0]\n",
      " [0]\n",
      " [0]\n",
      " [0]\n",
      " [0]\n",
      " [0]\n",
      " [0]\n",
      " [0]\n",
      " [0]\n",
      " [0]\n",
      " [0]\n",
      " [0]\n",
      " [0]\n",
      " [0]\n",
      " [0]\n",
      " [0]\n",
      " [0]\n",
      " [0]\n",
      " [0]\n",
      " [0]\n",
      " [0]\n",
      " [0]\n",
      " [0]\n",
      " [0]\n",
      " [0]\n",
      " [0]\n",
      " [0]\n",
      " [0]\n",
      " [0]\n",
      " [0]\n",
      " [0]\n",
      " [0]\n",
      " [0]\n",
      " [0]\n",
      " [0]\n",
      " [0]\n",
      " [0]\n",
      " [0]\n",
      " [0]\n",
      " [0]\n",
      " [0]\n",
      " [0]\n",
      " [0]\n",
      " [0]\n",
      " [0]\n",
      " [0]\n",
      " [0]\n",
      " [0]\n",
      " [0]\n",
      " [0]\n",
      " [0]\n",
      " [0]\n",
      " [0]\n",
      " [0]\n",
      " [0]\n",
      " [0]\n",
      " [0]\n",
      " [0]\n",
      " [0]\n",
      " [0]\n",
      " [0]\n",
      " [0]\n",
      " [0]\n",
      " [0]\n",
      " [0]\n",
      " [0]\n",
      " [0]\n",
      " [0]\n",
      " [0]\n",
      " [0]\n",
      " [0]\n",
      " [0]\n",
      " [0]\n",
      " [0]\n",
      " [0]\n",
      " [0]\n",
      " [0]\n",
      " [0]\n",
      " [0]\n",
      " [0]\n",
      " [0]\n",
      " [0]\n",
      " [0]\n",
      " [0]\n",
      " [0]\n",
      " [0]\n",
      " [0]\n",
      " [0]\n",
      " [0]\n",
      " [0]\n",
      " [0]\n",
      " [0]\n",
      " [0]\n",
      " [0]\n",
      " [0]\n",
      " [0]\n",
      " [0]\n",
      " [0]\n",
      " [0]\n",
      " [0]\n",
      " [0]\n",
      " [0]\n",
      " [0]\n",
      " [0]\n",
      " [0]\n",
      " [0]\n",
      " [0]\n",
      " [0]\n",
      " [0]\n",
      " [0]\n",
      " [0]\n",
      " [0]\n",
      " [0]\n",
      " [0]\n",
      " [0]\n",
      " [0]\n",
      " [0]\n",
      " [0]\n",
      " [0]\n",
      " [0]\n",
      " [0]\n",
      " [0]\n",
      " [0]\n",
      " [0]\n",
      " [0]\n",
      " [0]\n",
      " [0]\n",
      " [0]\n",
      " [0]\n",
      " [0]\n",
      " [0]\n",
      " [0]\n",
      " [0]\n",
      " [0]\n",
      " [0]\n",
      " [0]\n",
      " [0]\n",
      " [0]\n",
      " [0]\n",
      " [0]\n",
      " [0]\n",
      " [0]\n",
      " [0]\n",
      " [0]\n",
      " [0]\n",
      " [0]\n",
      " [0]\n",
      " [0]\n",
      " [0]\n",
      " [0]\n",
      " [0]\n",
      " [0]\n",
      " [0]\n",
      " [0]\n",
      " [0]\n",
      " [0]\n",
      " [0]\n",
      " [0]\n",
      " [0]\n",
      " [0]\n",
      " [0]\n",
      " [0]\n",
      " [0]\n",
      " [0]\n",
      " [0]\n",
      " [0]\n",
      " [0]\n",
      " [0]\n",
      " [0]\n",
      " [0]\n",
      " [0]\n",
      " [0]\n",
      " [0]\n",
      " [0]\n",
      " [0]\n",
      " [0]\n",
      " [0]\n",
      " [0]\n",
      " [0]\n",
      " [0]\n",
      " [0]\n",
      " [0]\n",
      " [0]\n",
      " [0]\n",
      " [0]\n",
      " [0]], shape=(625, 1), dtype=int32)\n"
     ]
    }
   ],
   "source": [
    "zero_tensors = tf.reshape(zero_tensors ,[625 , -1] )\n",
    "print(zero_tensors)"
   ]
  },
  {
   "cell_type": "markdown",
   "id": "6b4ad141-9a63-47e0-94fa-8149dd8c2b2c",
   "metadata": {},
   "source": [
    "## Indexing\n",
    "\n"
   ]
  },
  {
   "cell_type": "markdown",
   "id": "6b4d9704-2afd-44e7-9add-2186a6eae9f1",
   "metadata": {},
   "source": [
    "### Single-axis indexing\n",
    "\n",
    "TensorFlow follows standard Python indexing rules, similar to  [indexing a list or a string in Python](https://docs.python.org/3/tutorial/introduction.html#strings), and the basic rules for NumPy indexing.\n",
    "\n",
    "-   indexes start at  `0`\n",
    "-   negative indices count backwards from the end\n",
    "-   colons,  `:`, are used for slices:  `start:stop:step`\n"
   ]
  },
  {
   "cell_type": "code",
   "execution_count": 92,
   "id": "cae74853-c452-4b9e-87a0-82643f3555c1",
   "metadata": {},
   "outputs": [],
   "source": [
    "my_index_tensors = tf.constant([1,2,3,4,5,6,7,8,9,10])\n",
    "my_index_tensors = my_index_tensors.numpy()"
   ]
  },
  {
   "cell_type": "markdown",
   "id": "1a22e128-21a3-4efa-abec-f098ac0ce5ff",
   "metadata": {},
   "source": [
    "#### Indexing with a scalar removes the axis:\n",
    "\n"
   ]
  },
  {
   "cell_type": "code",
   "execution_count": 94,
   "id": "d3a47e9e-ff8f-4efe-92c9-b2c7fa6303a7",
   "metadata": {},
   "outputs": [
    {
     "data": {
      "text/plain": [
       "(1, 10)"
      ]
     },
     "execution_count": 94,
     "metadata": {},
     "output_type": "execute_result"
    }
   ],
   "source": [
    "my_index_tensors[0] , my_index_tensors[-1]"
   ]
  },
  {
   "cell_type": "markdown",
   "id": "2da6a4b6-b50e-4081-9eb7-be21783bbcbb",
   "metadata": {},
   "source": [
    "## Broadcasting"
   ]
  },
  {
   "cell_type": "markdown",
   "id": "044329d4-072f-4f85-b4b4-4bfb84aa4be9",
   "metadata": {},
   "source": [
    "Performing muliple operations on tensors"
   ]
  },
  {
   "cell_type": "code",
   "execution_count": 98,
   "id": "3a69bcfb-9619-4dda-8d3f-486d910a35d7",
   "metadata": {},
   "outputs": [
    {
     "name": "stdout",
     "output_type": "stream",
     "text": [
      "tf.Tensor([2 4 6], shape=(3,), dtype=int32)\n",
      "tf.Tensor([2 4 6], shape=(3,), dtype=int32)\n",
      "tf.Tensor([2 4 6], shape=(3,), dtype=int32)\n"
     ]
    }
   ],
   "source": [
    "x = tf.constant([1, 2, 3])\n",
    "\n",
    "y = tf.constant(2)\n",
    "z = tf.constant([2, 2, 2])\n",
    "# All of these are the same computation\n",
    "print(tf.multiply(x, 2))\n",
    "print(x * y)\n",
    "print(x * z)"
   ]
  },
  {
   "cell_type": "markdown",
   "id": "b5a2d61e-da43-40da-9ad9-0f2492cd447f",
   "metadata": {},
   "source": [
    "\n",
    "Most of the time, broadcasting is both time and space efficient, as the broadcast operation never materializes the expanded tensors in memory.\n",
    "\n",
    "You see what broadcasting looks like using  [`tf.broadcast_to`](https://www.tensorflow.org/api_docs/python/tf/broadcast_to)."
   ]
  },
  {
   "cell_type": "code",
   "execution_count": 103,
   "id": "7b5578aa-ba9b-40cd-91d8-b5f4295d7e54",
   "metadata": {
    "scrolled": true
   },
   "outputs": [
    {
     "data": {
      "text/plain": [
       "<tf.Tensor: shape=(3, 3), dtype=int32, numpy=\n",
       "array([[1, 2, 3],\n",
       "       [1, 2, 3],\n",
       "       [1, 2, 3]])>"
      ]
     },
     "execution_count": 103,
     "metadata": {},
     "output_type": "execute_result"
    }
   ],
   "source": [
    "tf.broadcast_to(x , [3,3])"
   ]
  },
  {
   "cell_type": "markdown",
   "id": "939e8736-8a61-43c3-b869-32db9293556f",
   "metadata": {},
   "source": [
    "# VARIABLES"
   ]
  },
  {
   "cell_type": "markdown",
   "id": "80072b39-d3be-435b-a7a3-dcb0788db7eb",
   "metadata": {},
   "source": [
    "### Create a variable"
   ]
  },
  {
   "cell_type": "code",
   "execution_count": 107,
   "id": "da61e09d-0685-4d7f-aefa-4152bf19ff98",
   "metadata": {},
   "outputs": [
    {
     "data": {
      "text/plain": [
       "<tf.Variable 'Variable:0' shape=(2, 2) dtype=float32, numpy=\n",
       "array([[1., 2.],\n",
       "       [3., 4.]], dtype=float32)>"
      ]
     },
     "execution_count": 107,
     "metadata": {},
     "output_type": "execute_result"
    }
   ],
   "source": [
    "my_tensor = tf.constant([[1.0, 2.0], [3.0, 4.0]])\n",
    "my_variable = tf.Variable(my_tensor)\n",
    "my_variable"
   ]
  },
  {
   "cell_type": "code",
   "execution_count": 108,
   "id": "b3609397-b8aa-4ab9-a979-7862f9419e53",
   "metadata": {},
   "outputs": [
    {
     "name": "stdout",
     "output_type": "stream",
     "text": [
      "Shape:  (2, 2)\n",
      "DType:  <dtype: 'float32'>\n",
      "As NumPy:  [[1. 2.]\n",
      " [3. 4.]]\n"
     ]
    }
   ],
   "source": [
    "print(\"Shape: \", my_variable.shape)\n",
    "print(\"DType: \", my_variable.dtype)\n",
    "print(\"As NumPy: \", my_variable.numpy())"
   ]
  },
  {
   "cell_type": "markdown",
   "id": "f153ed2c-6e6c-4b73-bf3f-a8bcb580cc78",
   "metadata": {},
   "source": [
    "Most tensor operations work on variables as expected, although variables cannot be reshaped."
   ]
  },
  {
   "cell_type": "code",
   "execution_count": 110,
   "id": "d7ce710e-081b-4eec-8997-63b2e72d6ce5",
   "metadata": {},
   "outputs": [
    {
     "name": "stdout",
     "output_type": "stream",
     "text": [
      "A variable: <tf.Variable 'Variable:0' shape=(2, 2) dtype=float32, numpy=\n",
      "array([[1., 2.],\n",
      "       [3., 4.]], dtype=float32)>\n",
      "\n",
      "Viewed as a tensor: tf.Tensor(\n",
      "[[1. 2.]\n",
      " [3. 4.]], shape=(2, 2), dtype=float32)\n",
      "\n",
      "Index of highest value: tf.Tensor([1 1], shape=(2,), dtype=int64)\n",
      "\n",
      "Copying and reshaping:  tf.Tensor([[1. 2. 3. 4.]], shape=(1, 4), dtype=float32)\n"
     ]
    }
   ],
   "source": [
    "print(\"A variable:\", my_variable)\n",
    "print(\"\\nViewed as a tensor:\", tf.convert_to_tensor(my_variable))\n",
    "print(\"\\nIndex of highest value:\", tf.math.argmax(my_variable))\n",
    "\n",
    "# This creates a new tensor; it does not reshape the variable.\n",
    "print(\"\\nCopying and reshaping: \", tf.reshape(my_variable, [1,4]))"
   ]
  },
  {
   "cell_type": "markdown",
   "id": "c4b0484a-2b4c-405d-8b5f-f8a2749651f8",
   "metadata": {},
   "source": [
    "\n",
    "## Lifecycles,  naming,  and watching\n",
    "\n",
    "In Python-based TensorFlow,  [`tf.Variable`](https://www.tensorflow.org/api_docs/python/tf/Variable)  instance have the same lifecycle as other Python objects. When there are no references to a variable it is automatically deallocated.\n",
    "\n",
    "Variables can also be named which can help you track and debug them. You can give two variables the same name."
   ]
  },
  {
   "cell_type": "code",
   "execution_count": 114,
   "id": "53fffeb9-37e8-4cb4-bb0d-2db8615c9368",
   "metadata": {},
   "outputs": [
    {
     "name": "stdout",
     "output_type": "stream",
     "text": [
      "tf.Tensor(\n",
      "[[False False]\n",
      " [False False]], shape=(2, 2), dtype=bool)\n"
     ]
    }
   ],
   "source": [
    "# Create a and b; they will have the same name but will be backed by\n",
    "# different tensors.\n",
    "a = tf.Variable(my_tensor, name=\"Mark\")\n",
    "# A new variable with the same name, but different value\n",
    "# Note that the scalar add is broadcast\n",
    "b = tf.Variable(my_tensor+1, name=\"Mark\")\n",
    "\n",
    "# These are elementwise-unequal, despite having the same name\n",
    "print(a == b)"
   ]
  },
  {
   "cell_type": "markdown",
   "id": "de03cfe1-593f-4a61-a3ed-9f710b60855b",
   "metadata": {},
   "source": [
    "# Graph"
   ]
  },
  {
   "attachments": {
    "683a0f3f-359a-4590-afd4-fa78dfbffee4.png": {
     "image/png": "[encoded data removed]"
    }
   },
   "cell_type": "markdown",
   "id": "e7e398c5-acd3-4b76-b71d-36fbfd2ab8df",
   "metadata": {},
   "source": [
    "## What are graphs?\n",
    "\n",
    "- A graph is a way of representing data using nodes and edges. Nodes are the points or circles that hold some information, and edges are the lines that connect them. For example, you can use a graph to show the relationships between your friends, where each node is a person and each edge is a friendship.\n",
    "\n",
    "- In TensorFlow, a graph is a way of organizing the computations that you want to perform with tensors. A `tensor` is a multi-dimensional array of numbers, like a matrix or a vector. \n",
    "\n",
    "- `Graphs are data structures that contain a set of operations and tensors.` \n",
    "\n",
    "- `Operations` are the functions or calculations that you want to do with tensors, such as adding, multiplying, or finding the maximum. \n",
    "\n",
    "- `Tensors` are the inputs and outputs of these operations, and they flow through the graph like water through pipes.\n",
    "\n",
    "- ![image.png](attachment:683a0f3f-359a-4590-afd4-fa78dfbffee4.png)\n",
    "- One of the benefits of using graphs in TensorFlow is that they can be saved, run, and restored without needing the original Python code that created them. This means you can use graphs to run your TensorFlow models on different devices or platforms, such as mobile phones, web browsers, or servers. Graphs can also offer better performance than eager execution, because they can optimize the order and timing of the operations.\n",
    "- In short, `graphs are extremely useful and let your TensorFlow run fast, run in parallel, and run efficiently on multiple devices`."
   ]
  },
  {
   "cell_type": "markdown",
   "id": "ba3be08d-b4b6-4bc3-a8de-1025cc55519d",
   "metadata": {},
   "source": [
    "### Setup\n",
    "Import some necessary libraries:"
   ]
  },
  {
   "cell_type": "code",
   "execution_count": 118,
   "id": "39859080-e25a-470d-8a85-26813d96af17",
   "metadata": {},
   "outputs": [],
   "source": [
    "import tensorflow as tf \n",
    "import timeit\n",
    "from datetime import datetime\n"
   ]
  },
  {
   "cell_type": "markdown",
   "id": "ad6b34da-8cf3-43a3-8f62-8e7669a5d41b",
   "metadata": {},
   "source": [
    "## Taking advantage of graphs\n",
    "\n",
    "You create and run a graph in TensorFlow by using  [`tf.function`](https://www.tensorflow.org/api_docs/python/tf/function), either as a direct call or as a decorator.  [`tf.function`](https://www.tensorflow.org/api_docs/python/tf/function)  takes a regular function as input and returns a  `Function`. \n",
    "\n",
    "**A  `Function`  is a Python callable that builds TensorFlow graphs from the Python function. You use a  `Function`  in the same way as its Python equivalent.**"
   ]
  },
  {
   "cell_type": "markdown",
   "id": "989c4e0b-707d-4fdb-a3ab-cbe68e000170",
   "metadata": {},
   "source": [
    "### Python ()"
   ]
  },
  {
   "cell_type": "code",
   "execution_count": 121,
   "id": "cb4aa5b5-540e-448a-8002-1a99eea3283e",
   "metadata": {},
   "outputs": [],
   "source": [
    "def  regular_function(a , b , c): \n",
    "    a = tf.matmul(a , b)\n",
    "    a = a + c\n",
    "    return a \n"
   ]
  },
  {
   "cell_type": "markdown",
   "id": "e080239d-0c9d-40c3-8cc4-6fef95645ee4",
   "metadata": {},
   "source": [
    "### `a_function_that_uses_a_graph` is a TensorFlow `Function`.\n"
   ]
  },
  {
   "cell_type": "code",
   "execution_count": 123,
   "id": "dfef09f2-49de-4c3c-8727-5abd97d9e4ec",
   "metadata": {},
   "outputs": [],
   "source": [
    "graph_function = tf.function(regular_function)"
   ]
  },
  {
   "cell_type": "markdown",
   "id": "5ebbbd05-63c8-490a-8f94-26b9e7e54720",
   "metadata": {},
   "source": [
    "### Lets create some tensors "
   ]
  },
  {
   "cell_type": "code",
   "execution_count": 128,
   "id": "863d2348-5b06-4e26-8259-7ed28e529f99",
   "metadata": {},
   "outputs": [],
   "source": [
    "x1 = tf.constant([[1.0, 2.0]])\n",
    "y1 = tf.constant([[2.0], [3.0]])\n",
    "b1 = tf.constant(4.0)\n"
   ]
  },
  {
   "cell_type": "code",
   "execution_count": 130,
   "id": "fdf648ca-7e9f-42f4-a93c-02f499561e5c",
   "metadata": {},
   "outputs": [],
   "source": [
    "# orginal_values = regular_function(a,b,c).numpy()\n",
    "# origial_values"
   ]
  },
  {
   "cell_type": "markdown",
   "id": "dd8aabbc-b6ac-4ac7-a3c5-ee04d26525bb",
   "metadata": {},
   "source": [
    "\n",
    "On the outside, a  `Function`  looks like a regular function you write using TensorFlow operations.  [Underneath](https://github.com/tensorflow/tensorflow/blob/master/tensorflow/python/eager/def_function.py), however, it is  _very different_. A  `Function`  **encapsulates several  [`tf.Graph`](https://www.tensorflow.org/api_docs/python/tf/Graph)s behind one API**  (learn more in the  _Polymorphism_  section). That is how a  `Function`  is able to give you the benefits of graph execution, like speed and deployability (refer to  _The benefits of graphs_  above).\n",
    "\n",
    "[`tf.function`](https://www.tensorflow.org/api_docs/python/tf/function)  applies to a function  _and all other functions it calls_:"
   ]
  },
  {
   "cell_type": "code",
   "execution_count": 131,
   "id": "61f26797-87b4-48f8-8878-dd1495acb957",
   "metadata": {},
   "outputs": [
    {
     "data": {
      "text/plain": [
       "array([[12.]], dtype=float32)"
      ]
     },
     "execution_count": 131,
     "metadata": {},
     "output_type": "execute_result"
    }
   ],
   "source": [
    "def inner_function(x, y, b):\n",
    "  x = tf.matmul(x, y)\n",
    "  x = x + b\n",
    "  return x\n",
    "\n",
    "# Use the decorator to make `outer_function` a `Function`.\n",
    "@tf.function\n",
    "def outer_function(x):\n",
    "  y = tf.constant([[2.0], [3.0]])\n",
    "  b = tf.constant(4.0)\n",
    "\n",
    "  return inner_function(x, y, b)\n",
    "\n",
    "# Note that the callable will create a graph that\n",
    "# includes `inner_function` as well as `outer_function`.\n",
    "outer_function(tf.constant([[1.0, 2.0]])).numpy()"
   ]
  },
  {
   "cell_type": "markdown",
   "id": "772a7e1a-ba6d-490f-acd1-4e2878a0dab2",
   "metadata": {},
   "source": [
    "\n",
    "### Converting Python functions to graphs\n",
    "\n",
    "Any function you write with TensorFlow will contain a mixture of built-in TF operations and Python logic, such as  `if-then`  clauses, loops,  `break`,  `return`,  `continue`, and more. While TensorFlow operations are easily captured by a  `tf.Graph`, Python-specific logic needs to undergo an extra step in order to become part of the graph.  [`tf.function`](https://www.tensorflow.org/api_docs/python/tf/function)  uses a library called AutoGraph ([`tf.autograph`](https://www.tensorflow.org/api_docs/python/tf/autograph)) to convert Python code into graph-generating code."
   ]
  },
  {
   "cell_type": "code",
   "execution_count": 134,
   "id": "d072d0ae-ec63-4544-968b-9a910f2d6a1e",
   "metadata": {},
   "outputs": [
    {
     "name": "stdout",
     "output_type": "stream",
     "text": [
      "First branch, with graph: 1\n",
      "Second branch, with graph: 0\n"
     ]
    }
   ],
   "source": [
    "def simple_relu(x):\n",
    "  if tf.greater(x, 0):\n",
    "    return x\n",
    "  else:\n",
    "    return 0\n",
    "\n",
    "# `tf_simple_relu` is a TensorFlow `Function` that wraps `simple_relu`.\n",
    "tf_simple_relu = tf.function(simple_relu)\n",
    "\n",
    "print(\"First branch, with graph:\", tf_simple_relu(tf.constant(1)).numpy())\n",
    "print(\"Second branch, with graph:\", tf_simple_relu(tf.constant(-1)).numpy())"
   ]
  }
 ],
 "metadata": {
  "kernelspec": {
   "display_name": "Python 3 (ipykernel)",
   "language": "python",
   "name": "python3"
  },
  "language_info": {
   "codemirror_mode": {
    "name": "ipython",
    "version": 3
   },
   "file_extension": ".py",
   "mimetype": "text/x-python",
   "name": "python",
   "nbconvert_exporter": "python",
   "pygments_lexer": "ipython3",
   "version": "3.9.13"
  }
 },
 "nbformat": 4,
 "nbformat_minor": 5
}
