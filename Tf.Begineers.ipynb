{
 "cells": [
  {
   "cell_type": "markdown",
   "id": "19e666ec-3cae-4024-8cb2-b27b5d2dbf63",
   "metadata": {},
   "source": [
    "# TensorFlow 2 "
   ]
  },
  {
   "cell_type": "markdown",
   "id": "9f173028-6c5b-44d2-98b3-b2d03624f41a",
   "metadata": {},
   "source": [
    "## This Notebook is a short introduction uses Keras to:\n",
    "\n",
    "1. Load a prebuilt dataset.(mnist dataset)\n",
    "2. Build a neural network machine learning model that classifies images.\n",
    "3. Train this neural network.\n",
    "3. Evaluate the accuracy of the model."
   ]
  },
  {
   "cell_type": "code",
   "execution_count": 42,
   "id": "1f750baa-edef-4e74-8bf5-c99d961f070c",
   "metadata": {},
   "outputs": [
    {
     "data": {
      "text/plain": [
       "'2.15.0'"
      ]
     },
     "execution_count": 42,
     "metadata": {},
     "output_type": "execute_result"
    }
   ],
   "source": [
    "import tensorflow as tf\n",
    "tf.__version__"
   ]
  },
  {
   "cell_type": "markdown",
   "id": "52cb73c1-90b7-4e54-a3df-4778039734e4",
   "metadata": {},
   "source": [
    "## Load a dataset"
   ]
  },
  {
   "cell_type": "code",
   "execution_count": 43,
   "id": "110ec479-f2a1-4b99-b916-92b76cc0ff20",
   "metadata": {},
   "outputs": [],
   "source": [
    "mnist = tf.keras.datasets.mnist\n",
    "\n",
    "(x_train , y_train ), (x_test , y_test) = mnist.load_data()"
   ]
  },
  {
   "cell_type": "markdown",
   "id": "b9c19ae6-e623-46dd-970a-3cfdda99a2f4",
   "metadata": {},
   "source": [
    "## Build a machine learning model\n",
    "\n",
    "- Build a tf.keras.Sequential model:\r\n",
    "\r\n"
   ]
  },
  {
   "cell_type": "code",
   "execution_count": 45,
   "id": "7f274e8e-11a3-46fb-ab8d-1a19c4e139de",
   "metadata": {},
   "outputs": [],
   "source": [
    "model = tf.keras.models.Sequential([\n",
    "\n",
    "    tf.keras.layers.Flatten(input_shape=(28,28)) , \n",
    "    tf.keras.layers.Dense(128 , activation='relu') , \n",
    "    tf.keras.layers.Dropout(0.2),\n",
    "    tf.keras.layers.Dense(10 , activation='sigmoid')\n",
    "\n",
    "])"
   ]
  },
  {
   "cell_type": "markdown",
   "id": "d0748c6d-58b6-43a0-aae1-928394ae6a58",
   "metadata": {},
   "source": [
    "[`Sequential`](https://www.tensorflow.org/guide/keras/sequential_model) is useful for stacking layers where each layer has one input [tensor](https://www.tensorflow.org/guide/tensor) and one output tensor. Layers are functions with a known mathematical structure that can be reused and have trainable variables. Most TensorFlow models are composed of layers. This model uses the [`Flatten`](https://www.tensorflow.org/api_docs/python/tf/keras/layers/Flatten), [`Dense`](https://www.tensorflow.org/api_docs/python/tf/keras/layers/Dense), and [`Dropout`](https://www.tensorflow.org/api_docs/python/tf/keras/layers/Dropout) layers."
   ]
  },
  {
   "cell_type": "markdown",
   "id": "d6067fbe-99e8-4433-bf34-d5cdfd577fb9",
   "metadata": {},
   "source": [
    "\n",
    "For each example, the model returns a vector of [logits](https://developers.google.com/machine-learning/glossary#logits) or [log-odds](https://developers.google.com/machine-learning/glossary#log-odds) scores, one for each class."
   ]
  },
  {
   "cell_type": "code",
   "execution_count": 46,
   "id": "f089add3-e3af-4d7b-98f7-7b11a06ef5c0",
   "metadata": {},
   "outputs": [
    {
     "data": {
      "text/plain": [
       "array([[9.3778789e-01, 1.0000000e+00, 1.0000000e+00, 1.0000000e+00,\n",
       "        1.0000000e+00, 1.0000000e+00, 2.1875119e-01, 6.3809892e-26,\n",
       "        0.0000000e+00, 6.4823966e-24]], dtype=float32)"
      ]
     },
     "execution_count": 46,
     "metadata": {},
     "output_type": "execute_result"
    }
   ],
   "source": [
    "prediction = model(x_train[:1]).numpy()\n",
    "prediction"
   ]
  },
  {
   "cell_type": "markdown",
   "id": "b4670872-1fa3-48c3-a50d-9b402d4d407a",
   "metadata": {},
   "source": [
    "The [`tf.nn.softmax`](https://www.tensorflow.org/api_docs/python/tf/nn/softmax) function converts these logits to _probabilities_ for each class:"
   ]
  },
  {
   "cell_type": "code",
   "execution_count": 47,
   "id": "0424f786-2333-4b09-80f3-f5b77f694d36",
   "metadata": {},
   "outputs": [
    {
     "data": {
      "text/plain": [
       "array([[0.12527184, 0.13331279, 0.13331279, 0.13331279, 0.13331279,\n",
       "        0.13331279, 0.06103512, 0.04904304, 0.04904304, 0.04904304]],\n",
       "      dtype=float32)"
      ]
     },
     "execution_count": 47,
     "metadata": {},
     "output_type": "execute_result"
    }
   ],
   "source": [
    "sft = tf.nn.softmax(prediction).numpy()\n",
    "sft"
   ]
  },
  {
   "cell_type": "markdown",
   "id": "26220a73-004e-402a-82e7-1cc57deed2a1",
   "metadata": {},
   "source": [
    "Define a loss function for training using [`losses.SparseCategoricalCrossentropy`](https://www.tensorflow.org/api_docs/python/tf/keras/losses/SparseCategoricalCrossentropy)"
   ]
  },
  {
   "cell_type": "code",
   "execution_count": 48,
   "id": "e62c6401-c7de-4787-b38b-d922d2bf27ef",
   "metadata": {},
   "outputs": [],
   "source": [
    "loss_fn = tf.keras.losses.SparseCategoricalCrossentropy(from_logits=True)"
   ]
  },
  {
   "cell_type": "markdown",
   "id": "038ee9ff-25e8-415e-941d-966079082fab",
   "metadata": {},
   "source": [
    " - The loss function **takes a vector of ground truth values** and a\n",
    "   **vector of logits** and **returns a scalar loss for each example**.\n",
    " - This loss is equal to the negative log probability of the true class:\n",
    "   The loss is zero if the model is sure of the correct class.\n",
    " - This untrained model gives probabilities close to random (1/10 for\n",
    "   each class), so the initial loss should be close to \n",
    "   `-tf.math.log(1/10) ~= 2.3`.\n"
   ]
  },
  {
   "cell_type": "code",
   "execution_count": 49,
   "id": "ef28bbc2-7801-4073-af7d-c97cd7f35a55",
   "metadata": {},
   "outputs": [
    {
     "data": {
      "text/plain": [
       "2.015057"
      ]
     },
     "execution_count": 49,
     "metadata": {},
     "output_type": "execute_result"
    }
   ],
   "source": [
    "loss_fn(y_train[10] , prediction).numpy()"
   ]
  },
  {
   "cell_type": "markdown",
   "id": "58d8486a-51b3-491c-b01b-b68f719432e0",
   "metadata": {},
   "source": [
    "Before you start training, configure and compile the model using Keras [`Model.compile`](https://www.tensorflow.org/api_docs/python/tf/keras/Model#compile). Set the [`optimizer`](https://www.tensorflow.org/api_docs/python/tf/keras/optimizers) class to `adam`, set the `loss` to the `loss_fn` function you defined earlier, and specify a metric to be evaluated for the model by setting the `metrics` parameter to `accuracy`."
   ]
  },
  {
   "cell_type": "code",
   "execution_count": 50,
   "id": "5953c11a-43c8-4184-82cd-0d47c6086a5e",
   "metadata": {},
   "outputs": [],
   "source": [
    "model.compile(optimizer='adam' , loss=loss_fn , metrics=['accuracy'])"
   ]
  },
  {
   "cell_type": "markdown",
   "id": "2ba0dd4f-be97-4a07-bdae-b6adbc886461",
   "metadata": {},
   "source": [
    "## Train and evaluate your model"
   ]
  },
  {
   "cell_type": "markdown",
   "id": "809d8f4b-0732-40f9-b41d-fa3193f7e3b0",
   "metadata": {},
   "source": [
    "Use the [`Model.fit`](https://www.tensorflow.org/api_docs/python/tf/keras/Model#fit) method to adjust your model parameters and minimize the loss:"
   ]
  },
  {
   "cell_type": "code",
   "execution_count": 51,
   "id": "b699a376-8d1a-442f-a511-905e4c7a689b",
   "metadata": {
    "scrolled": true
   },
   "outputs": [
    {
     "name": "stdout",
     "output_type": "stream",
     "text": [
      "Epoch 1/5\n"
     ]
    },
    {
     "name": "stderr",
     "output_type": "stream",
     "text": [
      "C:\\Users\\soulo\\anaconda3\\lib\\site-packages\\keras\\src\\backend.py:5727: UserWarning: \"`sparse_categorical_crossentropy` received `from_logits=True`, but the `output` argument was produced by a Softmax activation and thus does not represent logits. Was this intended?\n",
      "  output, from_logits = _get_logits(\n"
     ]
    },
    {
     "name": "stdout",
     "output_type": "stream",
     "text": [
      "1875/1875 [==============================] - 4s 2ms/step - loss: 2.3448 - accuracy: 0.7579\n",
      "Epoch 2/5\n",
      "1875/1875 [==============================] - 4s 2ms/step - loss: 0.5573 - accuracy: 0.8536\n",
      "Epoch 3/5\n",
      "1875/1875 [==============================] - 5s 3ms/step - loss: 0.4733 - accuracy: 0.8748\n",
      "Epoch 4/5\n",
      "1875/1875 [==============================] - 5s 3ms/step - loss: 0.4144 - accuracy: 0.8916\n",
      "Epoch 5/5\n",
      "1875/1875 [==============================] - 6s 3ms/step - loss: 0.3842 - accuracy: 0.8984\n"
     ]
    },
    {
     "data": {
      "text/plain": [
       "<keras.src.callbacks.History at 0x2449ded8970>"
      ]
     },
     "execution_count": 51,
     "metadata": {},
     "output_type": "execute_result"
    }
   ],
   "source": [
    "model.fit(x_train , y_train , epochs=5)"
   ]
  },
  {
   "cell_type": "markdown",
   "id": "01590038-b0bf-466a-801d-986690ca2128",
   "metadata": {},
   "source": [
    "The [`Model.evaluate`](https://www.tensorflow.org/api_docs/python/tf/keras/Model#evaluate) method checks the model's performance, usually on a [validation set](https://developers.google.com/machine-learning/glossary#validation-set) or [test set](https://developers.google.com/machine-learning/glossary#test-set)."
   ]
  },
  {
   "cell_type": "code",
   "execution_count": 53,
   "id": "e0bf972d-262a-45ee-84d6-e068d9ba03b2",
   "metadata": {},
   "outputs": [
    {
     "name": "stdout",
     "output_type": "stream",
     "text": [
      "313/313 [==============================] - 1s 1ms/step - loss: 0.3320 - accuracy: 0.9229\n"
     ]
    },
    {
     "data": {
      "text/plain": [
       "[0.3320261836051941, 0.9229000210762024]"
      ]
     },
     "execution_count": 53,
     "metadata": {},
     "output_type": "execute_result"
    }
   ],
   "source": [
    "model.evaluate(x_test , y_test , verbose=True)"
   ]
  },
  {
   "cell_type": "markdown",
   "id": "d3ed4746-cc6b-47f0-8020-962d16d20e88",
   "metadata": {},
   "source": [
    "#### If you want your model to return a probability, you can wrap the trained model, and attach the softmax to it:"
   ]
  },
  {
   "cell_type": "code",
   "execution_count": 55,
   "id": "73d7bf6b-630b-4a4a-979a-86aa0e38be4f",
   "metadata": {},
   "outputs": [
    {
     "data": {
      "text/plain": [
       "<tf.Tensor: shape=(5, 10), dtype=float32, numpy=\n",
       "array([[0.11444619, 0.11444619, 0.11444619, 0.11444619, 0.11444619,\n",
       "        0.11444619, 0.04231913, 0.11444619, 0.04211137, 0.11444619],\n",
       "       [0.11447123, 0.11447275, 0.11447275, 0.11447275, 0.04211218,\n",
       "        0.11447264, 0.11447265, 0.11447263, 0.11446822, 0.04211218],\n",
       "       [0.03932006, 0.10688299, 0.10688299, 0.10688244, 0.10688299,\n",
       "        0.10688299, 0.10563872, 0.10688299, 0.10688299, 0.10686079],\n",
       "       [0.10688938, 0.03935924, 0.10688938, 0.10688938, 0.10688938,\n",
       "        0.10688938, 0.10688938, 0.10688938, 0.10552565, 0.10688938],\n",
       "       [0.06410449, 0.06390139, 0.10140007, 0.06409285, 0.17370051,\n",
       "        0.08185884, 0.06397131, 0.16934533, 0.0639592 , 0.15366594]],\n",
       "      dtype=float32)>"
      ]
     },
     "execution_count": 55,
     "metadata": {},
     "output_type": "execute_result"
    }
   ],
   "source": [
    "probab_model = tf.keras.Sequential([\n",
    "\n",
    "    model,\n",
    "    tf.keras.layers.Softmax()\n",
    "])\n",
    "\n",
    "probab_model(x_test[:5])"
   ]
  },
  {
   "cell_type": "code",
   "execution_count": 56,
   "id": "03fa5c64-fe71-4ac6-b94f-35d080bf6686",
   "metadata": {},
   "outputs": [
    {
     "data": {
      "text/plain": [
       "<matplotlib.image.AxesImage at 0x2448eec8760>"
      ]
     },
     "execution_count": 56,
     "metadata": {},
     "output_type": "execute_result"
    },
    {
     "data": {
      "image/png": "[encoded data removed]",
      "text/plain": [
       "<Figure size 480x480 with 1 Axes>"
      ]
     },
     "metadata": {},
     "output_type": "display_data"
    }
   ],
   "source": [
    "import matplotlib.pyplot as plt\n",
    "\n",
    "plt.matshow(x_train[0])"
   ]
  },
  {
   "cell_type": "code",
   "execution_count": 60,
   "id": "fee11ced-bf7e-47b4-83c7-3865c4aea83d",
   "metadata": {},
   "outputs": [
    {
     "data": {
      "text/plain": [
       "<matplotlib.image.AxesImage at 0x2448eff6cd0>"
      ]
     },
     "execution_count": 60,
     "metadata": {},
     "output_type": "execute_result"
    },
    {
     "data": {
      "image/png": "[encoded data removed]",
      "text/plain": [
       "<Figure size 480x480 with 1 Axes>"
      ]
     },
     "metadata": {},
     "output_type": "display_data"
    }
   ],
   "source": [
    "plt.matshow(x_test[0])"
   ]
  },
  {
   "cell_type": "code",
   "execution_count": null,
   "id": "fab4b685-6519-4b3b-bc00-597909b1b95b",
   "metadata": {},
   "outputs": [],
   "source": []
  }
 ],
 "metadata": {
  "kernelspec": {
   "display_name": "Python 3 (ipykernel)",
   "language": "python",
   "name": "python3"
  },
  "language_info": {
   "codemirror_mode": {
    "name": "ipython",
    "version": 3
   },
   "file_extension": ".py",
   "mimetype": "text/x-python",
   "name": "python",
   "nbconvert_exporter": "python",
   "pygments_lexer": "ipython3",
   "version": "3.9.13"
  }
 },
 "nbformat": 4,
 "nbformat_minor": 5
}
